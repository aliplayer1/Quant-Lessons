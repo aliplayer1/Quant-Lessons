{
 "cells": [
  {
   "cell_type": "markdown",
   "id": "b3ad65e5",
   "metadata": {},
   "source": [
    "# Pandas Basics"
   ]
  },
  {
   "cell_type": "code",
   "execution_count": null,
   "id": "c625d669",
   "metadata": {},
   "outputs": [],
   "source": [
    "# Import the libraries\n",
    "import math\n",
    "import pandas as pd\n",
    "import yfinance as yf\n",
    "import matplotlib.pyplot as plt"
   ]
  },
  {
   "cell_type": "markdown",
   "id": "d2da9187",
   "metadata": {},
   "source": [
    "The data is stored in a pandas `DataFrame` named `data`. This DataFrame contains various columns such as 'Open', 'High', 'Low', 'Close', 'Volume', and 'Adj Close', which represent different aspects of the stock's daily performance"
   ]
  },
  {
   "cell_type": "code",
   "execution_count": null,
   "id": "4525d85c",
   "metadata": {},
   "outputs": [],
   "source": [
    "# Load the historical price data for ticker\n",
    "ticker = \"NVDA\"\n",
    "start_date = \"2020-01-01\"\n",
    "\n",
    "data = yf.download(tickers=ticker, start=start_date)"
   ]
  },
  {
   "cell_type": "markdown",
   "id": "997b29df",
   "metadata": {},
   "source": [
    "Now, we calculate the 20-day and 50-day moving simple moving averages (SMA) of the stock's closing price. We also calculate the historical volatility and the percentile rank of the closing prices. Historical volatility is calculated over a period of 21 days and then it's annualized by multiplying it by the square root of 252 (number of trading days in a year) "
   ]
  },
  {
   "cell_type": "code",
   "execution_count": null,
   "id": "89188a77",
   "metadata": {},
   "outputs": [],
   "source": [
    "data['SMA20'] = data['Close'].rolling(window=20).mean()\n",
    "data['SMA50'] = data['Close'].rolling(window=50).mean()\n",
    "data['vol'] = data['Close'].pct_change().rolling(window = 21).std() * math.sqrt(252)\n",
    "data['pct_rank'] = data['Close'].rolling(window=21).rank(pct=True)"
   ]
  },
  {
   "cell_type": "code",
   "execution_count": null,
   "id": "8cf0ee49",
   "metadata": {},
   "outputs": [],
   "source": [
    "# Plot closing price and SMAs\n",
    "plt.figure(figsize=(15,10))\n",
    "for column in [\"Close\", \"SMA20\", \"SMA50\"]:\n",
    "    plt.plot(data.index, data[column], label=column)\n",
    "plt.title(\"NVDA Closing price and SMAs\")\n",
    "plt.ylabel('Price')\n",
    "plt.legend()\n",
    "plt.show()"
   ]
  },
  {
   "cell_type": "code",
   "execution_count": null,
   "id": "9bb9de49",
   "metadata": {},
   "outputs": [],
   "source": [
    "# Line plot showing both closing price and the computed historical vol\n",
    "ax = data['Close'].plot()\n",
    "data['vol'].plot(secondary_y = True, ax=ax, figsize=(15,10))\n",
    "plt.show()"
   ]
  },
  {
   "cell_type": "code",
   "execution_count": null,
   "id": "d44a11b4",
   "metadata": {},
   "outputs": [],
   "source": [
    "# Plot the percentile rank of the closing prices to see how the current price\n",
    "# compares to its historical range\n",
    "plt.figure(figsize=(15, 8))\n",
    "data['pct_rank'].plot()\n",
    "plt.title('Percentile Rank of NVDA Closing Prices')\n",
    "plt.ylabel('Percentile Rank')\n",
    "plt.show()"
   ]
  }
 ],
 "metadata": {
  "kernelspec": {
   "display_name": "venv",
   "language": "python",
   "name": "python3"
  },
  "language_info": {
   "codemirror_mode": {
    "name": "ipython",
    "version": 3
   },
   "file_extension": ".py",
   "mimetype": "text/x-python",
   "name": "python",
   "nbconvert_exporter": "python",
   "pygments_lexer": "ipython3",
   "version": "3.10.12"
  }
 },
 "nbformat": 4,
 "nbformat_minor": 5
}
