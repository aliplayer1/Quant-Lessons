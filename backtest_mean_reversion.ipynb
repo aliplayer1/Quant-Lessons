{
 "cells": [
  {
   "cell_type": "code",
   "execution_count": null,
   "id": "e98c5211",
   "metadata": {},
   "outputs": [],
   "source": [
    "import yfinance as yf\n",
    "import pandas as pd\n",
    "import numpy as np\n",
    "import matplotlib.pyplot as plt"
   ]
  },
  {
   "cell_type": "code",
   "execution_count": null,
   "id": "5154b46b",
   "metadata": {},
   "outputs": [],
   "source": [
    "# Step 1: Fetch historical stock price data for AAPL\n",
    "data = yf.download('TSLA', start='2020-01-01', end='2025-07-05')\n",
    "df = data[['Close']].copy()\n",
    "df.columns = ['price']"
   ]
  },
  {
   "cell_type": "code",
   "execution_count": null,
   "id": "e9701f8b",
   "metadata": {},
   "outputs": [],
   "source": [
    "#Step 2: Calculate daily return, 20-day SMA, and standard deviation\n",
    "df['daily_return'] = df['price'].pct_change()\n",
    "window = 20\n",
    "df['sma'] = df['price'].rolling(window=window).mean()\n",
    "df['std_dev'] = df['price'].rolling(window=window).std()\n",
    "df['lower_band'] = df['sma'] - (1.6 * df['std_dev']) # Threshold: 1 standard deviation below SMA"
   ]
  },
  {
   "cell_type": "code",
   "execution_count": null,
   "id": "04ac757b",
   "metadata": {},
   "outputs": [],
   "source": [
    "#Step 3 & 4: Define trading signals and simulate positions\n",
    "position = []\n",
    "in_position = False\n",
    "\n",
    "for i in range(len(df)):\n",
    "    if i < window: # Skip first 20 days due to NaN in rolling calculations\n",
    "        position.append(0)\n",
    "        continue\n",
    "\n",
    "    price = df['price'].iloc[i]\n",
    "    sma = df['sma'].iloc[i]\n",
    "    lower_band = df['lower_band'].iloc[i]\n",
    "\n",
    "    if not in_position and price < lower_band:\n",
    "        in_position = True      # Buy Signal: price below lower band\n",
    "    elif in_position and price >= sma:\n",
    "        in_position = False     # Sell Singal: price equal or above sma\n",
    "\n",
    "    position.append(1 if in_position else 0)\n",
    "\n",
    "df['position'] = position\n",
    "\n",
    "df.head(30)"
   ]
  },
  {
   "cell_type": "code",
   "execution_count": null,
   "id": "87559a76",
   "metadata": {},
   "outputs": [],
   "source": [
    "# Step 5: Calculate strategy returns\n",
    "# Position at close of day i-1 determines return on day i\n",
    "df['strategy_return'] = df['position'].shift(1) * df['daily_return']\n",
    "df['strategy_return'] = df['strategy_return'].fillna(0) # Fill NaN with 0 for days with no position\n",
    "\n",
    "# Calculate cumulative return for strategy and buy-and-hold\n",
    "df['cum_strategy_retun'] = (1 + df['strategy_return']).cumprod() - 1\n",
    "df['cum_bh_return'] = (1 + df['daily_return']).cumprod() - 1"
   ]
  },
  {
   "cell_type": "code",
   "execution_count": null,
   "id": "5bcd38b2",
   "metadata": {},
   "outputs": [],
   "source": [
    "# Step 6: Visualize the results\n",
    "plt.figure(figsize = (10,6))\n",
    "plt.plot(df.index, df['cum_strategy_retun'], label = \"Mean Reversion Strategy\")\n",
    "plt.plot(df.index, df['cum_bh_return'], label = 'Buy and hold')\n",
    "plt.title('Mean Reversion Strat vs. Buy and Hold (AAPL)')\n",
    "plt.xlabel('Date')\n",
    "plt.ylabel('Cumulative Return')\n",
    "plt.legend()\n",
    "plt.grid(True)\n",
    "plt.show()\n",
    "\n",
    "strategy_total_return = df['cum_strategy_retun'].iloc[-1]\n",
    "bh_total_return = df['cum_bh_return'].iloc[-1]\n",
    "strategy_sharpe = df['strategy_return'].mean() / df['strategy_return'].std() * np.sqrt(252)\n",
    "\n",
    "print(f\"Strategy Total Return: {strategy_total_return:.3%}\")\n",
    "print(f\"Buy and Hold Total Return: {bh_total_return:.3%}\")\n",
    "print(f\"Strategy Sharpe Ratio: {strategy_sharpe:.3f}\")"
   ]
  }
 ],
 "metadata": {
  "kernelspec": {
   "display_name": "myenv",
   "language": "python",
   "name": "python3"
  },
  "language_info": {
   "codemirror_mode": {
    "name": "ipython",
    "version": 3
   },
   "file_extension": ".py",
   "mimetype": "text/x-python",
   "name": "python",
   "nbconvert_exporter": "python",
   "pygments_lexer": "ipython3",
   "version": "3.10.12"
  }
 },
 "nbformat": 4,
 "nbformat_minor": 5
}
