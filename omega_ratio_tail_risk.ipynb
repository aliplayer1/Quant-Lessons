{
 "cells": [
  {
   "cell_type": "markdown",
   "id": "7905f3d8",
   "metadata": {},
   "source": [
    "# Omega ($\\Omega$) Ratio\n",
    "\n",
    "The Omega ratio is a weighted ratio of gains and losses above a threshold return. It captures more information about returns than similar metrics like the Sharpe ratio.\n",
    "\n",
    "It does this by adding up the area under the distribution around the threshold return. The area above the threshold measures the weight of the gains. The area below the threshold measures the weight of the losses. The Omega ratio is the positive area divided by the negative area.\n",
    "\n",
    "Sophisticated investors like hedge funds use the Omega ratio because alternative investments have long-tail risks not measured by other metrics like the Sharpe ratio. Even if you're not investing in exotic derivatives, the Omega ratio is useful.\n",
    "\n",
    "- A normal distribution has a skew, which measures the symmetry of distribution, of 0.\n",
    "- A normal distribution has a kurtosis (which measures outliers) of 3.\n",
    "\n",
    "Using performance metrics that don't take the entire distribution into consideration misses important information about risk. Use the Omega ratio to capture it."
   ]
  },
  {
   "cell_type": "code",
   "execution_count": null,
   "id": "0395b411",
   "metadata": {},
   "outputs": [],
   "source": [
    "import yfinance as yf\n",
    "import numpy as np\n",
    "import pandas as pd"
   ]
  },
  {
   "cell_type": "code",
   "execution_count": null,
   "id": "26760103",
   "metadata": {},
   "outputs": [],
   "source": [
    "# Specify the Ticker\n",
    "TICKER = \"TSLA\"\n",
    "\n",
    "# Grab the data\n",
    "data = yf.download(TICKER, start=\"2018-01-01\", end=\"2025-09-01\")"
   ]
  },
  {
   "cell_type": "code",
   "execution_count": null,
   "id": "4b16b72b",
   "metadata": {},
   "outputs": [],
   "source": [
    "# Clean the close column - convert to numeric\n",
    "data[(\"Close\", TICKER)] = pd.to_numeric(data[(\"Close\", TICKER)], errors='coerce')\n",
    "\n",
    "# Remove any rows with NaN values in Close column\n",
    "data = data.dropna(subset=[(\"Close\", TICKER)])\n",
    "\n",
    "# Now compute the returns\n",
    "returns = data[(\"Close\", TICKER)].pct_change()\n",
    "\n",
    "# Create a function for the Omega Ratio\n",
    "def omega_ratio(returns, required_return=0.0):\n",
    "\n",
    "    # Annualize the return threshold\n",
    "    return_threshold = (1 + required_return) ** (1 / 252) - 1\n",
    "\n",
    "    # Substract the threshold from returns\n",
    "    returns_less_thresh = returns - return_threshold\n",
    "\n",
    "    numer = sum(returns_less_thresh[returns_less_thresh > 0.0])\n",
    "    denom = -1.0 * sum(returns_less_thresh[returns_less_thresh < 0.0])\n",
    "\n",
    "    if denom > 0.0:\n",
    "        return numer / denom\n",
    "    else:\n",
    "        return np.nan\n",
    "\n",
    "returns.hist(bins = 100)\n",
    "print(f\"Skew: {returns.skew()}\")\n",
    "print(f\"Kurtosis: {returns.kurtosis()}\")\n",
    "print(f\"Omega Ratio: {omega_ratio(returns, 0.07)}\")"
   ]
  }
 ],
 "metadata": {
  "kernelspec": {
   "display_name": "venv",
   "language": "python",
   "name": "python3"
  },
  "language_info": {
   "codemirror_mode": {
    "name": "ipython",
    "version": 3
   },
   "file_extension": ".py",
   "mimetype": "text/x-python",
   "name": "python",
   "nbconvert_exporter": "python",
   "pygments_lexer": "ipython3",
   "version": "3.10.12"
  }
 },
 "nbformat": 4,
 "nbformat_minor": 5
}
