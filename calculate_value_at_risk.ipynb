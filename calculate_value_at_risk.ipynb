{
 "cells": [
  {
   "cell_type": "code",
   "execution_count": 24,
   "id": "526483b6",
   "metadata": {},
   "outputs": [],
   "source": [
    "import yfinance as yf\n",
    "import pandas as pd\n",
    "import numpy as np\n",
    "from scipy.stats import norm\n",
    "import matplotlib.pyplot as plt"
   ]
  },
  {
   "cell_type": "code",
   "execution_count": 25,
   "id": "65808763",
   "metadata": {},
   "outputs": [],
   "source": [
    "# Create a porfoltio of stocks\n",
    "tickers = ['AAPL', 'FB', 'C', 'DIS']\n",
    "\n",
    "# Pick the weights of each stock (must add to 1)\n",
    "weights = np.array([0.2, 0.4, 0.25, 0.15])\n",
    "\n",
    "# The size of the portfolio\n",
    "portfolio_value = 10000\n",
    "\n",
    "# The condifence interval\n",
    "confidence = 0.95  # 95%"
   ]
  },
  {
   "cell_type": "code",
   "execution_count": 26,
   "id": "5df41635",
   "metadata": {},
   "outputs": [
    {
     "name": "stderr",
     "output_type": "stream",
     "text": [
      "[*********************100%***********************]  4 of 4 completed\n"
     ]
    },
    {
     "data": {
      "text/html": [
       "<div>\n",
       "<style scoped>\n",
       "    .dataframe tbody tr th:only-of-type {\n",
       "        vertical-align: middle;\n",
       "    }\n",
       "\n",
       "    .dataframe tbody tr th {\n",
       "        vertical-align: top;\n",
       "    }\n",
       "\n",
       "    .dataframe thead th {\n",
       "        text-align: right;\n",
       "    }\n",
       "</style>\n",
       "<table border=\"1\" class=\"dataframe\">\n",
       "  <thead>\n",
       "    <tr style=\"text-align: right;\">\n",
       "      <th>Ticker</th>\n",
       "      <th>AAPL</th>\n",
       "      <th>C</th>\n",
       "      <th>DIS</th>\n",
       "      <th>FB</th>\n",
       "    </tr>\n",
       "    <tr>\n",
       "      <th>Date</th>\n",
       "      <th></th>\n",
       "      <th></th>\n",
       "      <th></th>\n",
       "      <th></th>\n",
       "    </tr>\n",
       "  </thead>\n",
       "  <tbody>\n",
       "    <tr>\n",
       "      <th>2018-01-02</th>\n",
       "      <td>40.426826</td>\n",
       "      <td>57.589909</td>\n",
       "      <td>106.943245</td>\n",
       "      <td>NaN</td>\n",
       "    </tr>\n",
       "    <tr>\n",
       "      <th>2018-01-03</th>\n",
       "      <td>40.419781</td>\n",
       "      <td>57.768028</td>\n",
       "      <td>107.402390</td>\n",
       "      <td>NaN</td>\n",
       "    </tr>\n",
       "    <tr>\n",
       "      <th>2018-01-04</th>\n",
       "      <td>40.607533</td>\n",
       "      <td>58.480564</td>\n",
       "      <td>107.354561</td>\n",
       "      <td>NaN</td>\n",
       "    </tr>\n",
       "    <tr>\n",
       "      <th>2018-01-05</th>\n",
       "      <td>41.069859</td>\n",
       "      <td>58.403111</td>\n",
       "      <td>106.771042</td>\n",
       "      <td>NaN</td>\n",
       "    </tr>\n",
       "    <tr>\n",
       "      <th>2018-01-08</th>\n",
       "      <td>40.917316</td>\n",
       "      <td>57.721565</td>\n",
       "      <td>105.240547</td>\n",
       "      <td>NaN</td>\n",
       "    </tr>\n",
       "    <tr>\n",
       "      <th>2018-01-09</th>\n",
       "      <td>40.912628</td>\n",
       "      <td>58.325645</td>\n",
       "      <td>105.164040</td>\n",
       "      <td>NaN</td>\n",
       "    </tr>\n",
       "    <tr>\n",
       "      <th>2018-01-10</th>\n",
       "      <td>40.903236</td>\n",
       "      <td>58.588989</td>\n",
       "      <td>104.714439</td>\n",
       "      <td>NaN</td>\n",
       "    </tr>\n",
       "    <tr>\n",
       "      <th>2018-01-11</th>\n",
       "      <td>41.135574</td>\n",
       "      <td>58.519257</td>\n",
       "      <td>106.168427</td>\n",
       "      <td>NaN</td>\n",
       "    </tr>\n",
       "    <tr>\n",
       "      <th>2018-01-12</th>\n",
       "      <td>41.560349</td>\n",
       "      <td>59.510597</td>\n",
       "      <td>107.584129</td>\n",
       "      <td>NaN</td>\n",
       "    </tr>\n",
       "    <tr>\n",
       "      <th>2018-01-16</th>\n",
       "      <td>41.349136</td>\n",
       "      <td>59.719688</td>\n",
       "      <td>105.881462</td>\n",
       "      <td>NaN</td>\n",
       "    </tr>\n",
       "  </tbody>\n",
       "</table>\n",
       "</div>"
      ],
      "text/plain": [
       "Ticker           AAPL          C         DIS  FB\n",
       "Date                                            \n",
       "2018-01-02  40.426826  57.589909  106.943245 NaN\n",
       "2018-01-03  40.419781  57.768028  107.402390 NaN\n",
       "2018-01-04  40.607533  58.480564  107.354561 NaN\n",
       "2018-01-05  41.069859  58.403111  106.771042 NaN\n",
       "2018-01-08  40.917316  57.721565  105.240547 NaN\n",
       "2018-01-09  40.912628  58.325645  105.164040 NaN\n",
       "2018-01-10  40.903236  58.588989  104.714439 NaN\n",
       "2018-01-11  41.135574  58.519257  106.168427 NaN\n",
       "2018-01-12  41.560349  59.510597  107.584129 NaN\n",
       "2018-01-16  41.349136  59.719688  105.881462 NaN"
      ]
     },
     "execution_count": 26,
     "metadata": {},
     "output_type": "execute_result"
    }
   ],
   "source": [
    "# Get the closing price for the list of tickers\n",
    "data = yf.download(tickers, start = '2018-01-01', end = '2025-07-12')['Close']\n",
    "\n",
    "data.head(10)"
   ]
  },
  {
   "cell_type": "code",
   "execution_count": 27,
   "id": "f0b26f87",
   "metadata": {},
   "outputs": [],
   "source": [
    "# Compute daily return of each stock\n",
    "returns = data.pct_change()\n",
    "\n",
    "# Compute the daily mean return of each stock\n",
    "mean_returns = returns.mean()\n",
    "\n",
    "# Compute portfolio mean return\n",
    "port_mean = mean_returns.dot(weights)\n",
    "\n",
    "# Mean of investment returns\n",
    "investment_mean_returns = (1 + port_mean) * portfolio_value\n",
    "\n",
    "# Compute the portfolio covariance matrix\n",
    "cov_matrix = returns.cov()\n",
    "\n",
    "# Compute portfoio standard deviation\n",
    "port_stdev = np.sqrt(weights.T.dot(cov_matrix).dot(weights))\n",
    "\n",
    "# Standartd deviation of investment returns\n",
    "investment_stdev = portfolio_value * port_stdev"
   ]
  },
  {
   "cell_type": "code",
   "execution_count": 30,
   "id": "9e82f4a9",
   "metadata": {},
   "outputs": [
    {
     "name": "stdout",
     "output_type": "stream",
     "text": [
      "PPF: 10254.263308139407\n",
      "Portfolio VaR: -254.26330813940694\n"
     ]
    }
   ],
   "source": [
    "# PPF thakes a percentage and returns a standard deviation\n",
    "# Multiplier for what value that percentage occurs at\n",
    "# It is equivalent to a on-tail test on the density plot\n",
    "percent_point = norm.ppf(confidence, investment_mean_returns, investment_stdev)\n",
    "\n",
    "# Calculate VaR at the confidence interval\n",
    "value_at_risk = portfolio_value - percent_point\n",
    "\n",
    "print(f\"PPF: {percent_point}\")\n",
    "print(f\"Portfolio VaR: {value_at_risk}\")"
   ]
  },
  {
   "cell_type": "code",
   "execution_count": 29,
   "id": "dd1fdda2",
   "metadata": {},
   "outputs": [
    {
     "data": {
      "text/plain": [
       "[<matplotlib.lines.Line2D at 0x71322ceaa170>]"
      ]
     },
     "execution_count": 29,
     "metadata": {},
     "output_type": "execute_result"
    },
    {
     "data": {
      "image/png": "[encoded data removed]",
      "text/plain": [
       "<Figure size 640x480 with 1 Axes>"
      ]
     },
     "metadata": {},
     "output_type": "display_data"
    }
   ],
   "source": [
    "value_at_risks = value_at_risk * np.sqrt(range(1, 31))\n",
    "\n",
    "# build plot of VaR over time\n",
    "plt.xlabel('Day')\n",
    "plt.ylabel('Max Loss')\n",
    "plt.title('Portfolio VaR')\n",
    "plt.plot(value_at_risks, \"r\")"
   ]
  }
 ],
 "metadata": {
  "kernelspec": {
   "display_name": "myenv",
   "language": "python",
   "name": "python3"
  },
  "language_info": {
   "codemirror_mode": {
    "name": "ipython",
    "version": 3
   },
   "file_extension": ".py",
   "mimetype": "text/x-python",
   "name": "python",
   "nbconvert_exporter": "python",
   "pygments_lexer": "ipython3",
   "version": "3.10.12"
  }
 },
 "nbformat": 4,
 "nbformat_minor": 5
}
