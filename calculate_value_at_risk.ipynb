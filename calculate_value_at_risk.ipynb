{
 "cells": [
  {
   "cell_type": "code",
   "execution_count": null,
   "id": "526483b6",
   "metadata": {},
   "outputs": [],
   "source": [
    "import yfinance as yf\n",
    "import pandas as pd\n",
    "import numpy as np\n",
    "from scipy.stats import norm\n",
    "import matplotlib.pyplot as plt"
   ]
  },
  {
   "cell_type": "code",
   "execution_count": null,
   "id": "65808763",
   "metadata": {},
   "outputs": [],
   "source": [
    "# Create a porfoltio of stocks\n",
    "tickers = ['AAPL', 'FB', 'C', 'DIS']\n",
    "\n",
    "# Pick the weights of each stock (must add to 1)\n",
    "weights = np.array([0.2, 0.4, 0.25, 0.15])\n",
    "\n",
    "# The size of the portfolio\n",
    "portfolio_value = 10000\n",
    "\n",
    "# The condifence interval\n",
    "confidence = 0.95  # 95%"
   ]
  },
  {
   "cell_type": "code",
   "execution_count": null,
   "id": "5df41635",
   "metadata": {},
   "outputs": [],
   "source": [
    "# Get the closing price for the list of tickers\n",
    "data = yf.download(tickers, start = '2018-01-01', end = '2025-07-12')['Close']\n",
    "\n",
    "data.head(10)"
   ]
  },
  {
   "cell_type": "code",
   "execution_count": null,
   "id": "f0b26f87",
   "metadata": {},
   "outputs": [],
   "source": [
    "# Compute daily return of each stock\n",
    "returns = data.pct_change()\n",
    "\n",
    "# Compute the daily mean return of each stock\n",
    "mean_returns = returns.mean()\n",
    "\n",
    "# Compute portfolio mean return\n",
    "port_mean = mean_returns.dot(weights)\n",
    "\n",
    "# Mean of investment returns\n",
    "investment_mean_returns = (1 + port_mean) * portfolio_value\n",
    "\n",
    "# Compute the portfolio covariance matrix\n",
    "cov_matrix = returns.cov()\n",
    "\n",
    "# Compute portfoio standard deviation\n",
    "port_stdev = np.sqrt(weights.T.dot(cov_matrix).dot(weights))\n",
    "\n",
    "# Standartd deviation of investment returns\n",
    "investment_stdev = portfolio_value * port_stdev"
   ]
  },
  {
   "cell_type": "code",
   "execution_count": null,
   "id": "9e82f4a9",
   "metadata": {},
   "outputs": [],
   "source": [
    "# PPF thakes a percentage and returns a standard deviation\n",
    "# Multiplier for what value that percentage occurs at\n",
    "# It is equivalent to a on-tail test on the density plot\n",
    "percent_point = norm.ppf(confidence, investment_mean_returns, investment_stdev)\n",
    "\n",
    "# Calculate VaR at the confidence interval\n",
    "value_at_risk = portfolio_value - percent_point\n",
    "\n",
    "print(f\"PPF: {percent_point}\")\n",
    "print(f\"Portfolio VaR: {value_at_risk}\")"
   ]
  },
  {
   "cell_type": "code",
   "execution_count": null,
   "id": "dd1fdda2",
   "metadata": {},
   "outputs": [],
   "source": [
    "value_at_risks = value_at_risk * np.sqrt(range(1, 31))\n",
    "\n",
    "# build plot of VaR over time\n",
    "plt.xlabel('Day')\n",
    "plt.ylabel('Max Loss')\n",
    "plt.title('Portfolio VaR')\n",
    "plt.plot(value_at_risks, \"r\")"
   ]
  }
 ],
 "metadata": {
  "kernelspec": {
   "display_name": "myenv",
   "language": "python",
   "name": "python3"
  },
  "language_info": {
   "codemirror_mode": {
    "name": "ipython",
    "version": 3
   },
   "file_extension": ".py",
   "mimetype": "text/x-python",
   "name": "python",
   "nbconvert_exporter": "python",
   "pygments_lexer": "ipython3",
   "version": "3.10.12"
  }
 },
 "nbformat": 4,
 "nbformat_minor": 5
}
