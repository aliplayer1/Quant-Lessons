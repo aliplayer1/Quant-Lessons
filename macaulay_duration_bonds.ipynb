{
 "cells": [
  {
   "cell_type": "markdown",
   "id": "f9096fd0",
   "metadata": {},
   "source": [
    "# Macaulay Duration\n",
    "\n",
    "Macaulay Duration is a measure of a bond's interest rate sensitivity, defining the <u>weighted average time to receive all payments</u>. It tells you how much your bond investmnet responds to rate movements and the timing of your cash flows.\n",
    "\n",
    "Macaulay Duration was introduced by Frederick Macaulay in 1938 as a tool for quantifying interest rate risk in bonds. Over time, it became a standard in fixed income analytics for traders, asset managers, and institutions. Duration's impact grew as bond markets matured and investors needed a clear handle on risk.\n",
    "\n",
    "Modern fixed income professionals rely on Macaulay Duration to build portfolios tailored to specific timelines and risk profiles. Portfolio managers use duration matching to immunize liabilities and avoid unexpected losses from rate hikes.\n",
    "\n"
   ]
  },
  {
   "cell_type": "code",
   "execution_count": null,
   "id": "716c0266",
   "metadata": {},
   "outputs": [],
   "source": [
    "# Import the necessary libraries\n",
    "\n",
    "import QuantLib as ql\n",
    "import datetime\n",
    "import pandas as pd"
   ]
  },
  {
   "cell_type": "code",
   "execution_count": null,
   "id": "3bd3f890",
   "metadata": {},
   "outputs": [],
   "source": [
    "# Prepare calendar and evaluation date for bond pricing operations using QuantLib\n",
    "# This code tells QuantLib which calendar and market conventions to use for all date calcualtions\n",
    "today_date = datetime.date.today()\n",
    "calendar = ql.UnitedStates(ql.UnitedStates.GovernmentBond)\n",
    "ql.Settings.instance().evaluationDate = ql.Date(today_date.day, today_date.month, today_date.year)"
   ]
  },
  {
   "cell_type": "markdown",
   "id": "da5962ef",
   "metadata": {},
   "source": [
    "We set the annual coupon, how often interest payments occur, and when the bond mmatures. We use QuantLib's scheduling features to automatically determine when all future payments fall based on market converntions in the US for Treasury bonds."
   ]
  },
  {
   "cell_type": "code",
   "execution_count": null,
   "id": "85c7e52c",
   "metadata": {},
   "outputs": [],
   "source": [
    "# 30-year Bond Data as of Sep 21, 2025\n",
    "coupon_rate = 0.0475\n",
    "maturity_years = 30\n",
    "latest_price = 101.583\n",
    "issue_date = ql.Date(15, 9, 2025)\n",
    "maturity_date = calendar.advance(issue_date, ql.Period(maturity_years, ql.Years))\n",
    "\n",
    "frequency = ql.Semiannual\n",
    "day_count = ql.ActualActual(ql.ActualActual.ISDA)\n",
    "face_value = 100"
   ]
  },
  {
   "cell_type": "markdown",
   "id": "963395ba",
   "metadata": {},
   "source": [
    "Next, we build the bond’s payment schedule and constructs a QuantLib bond object that will be used for pricing and risk calculations."
   ]
  },
  {
   "cell_type": "code",
   "execution_count": null,
   "id": "8af41a73",
   "metadata": {},
   "outputs": [],
   "source": [
    "schedule = ql.Schedule(\n",
    "    issue_date,\n",
    "    maturity_date,\n",
    "    ql.Period(frequency),\n",
    "    calendar,\n",
    "    ql.Following,\n",
    "    ql.Following,\n",
    "    ql.DateGeneration.Backward,\n",
    "    False\n",
    ")\n",
    "\n",
    "fixed_rate_bond = ql.FixedRateBond(\n",
    "    0,\n",
    "    face_value,\n",
    "    schedule,\n",
    "    [coupon_rate],\n",
    "    day_count\n",
    ")"
   ]
  },
  {
   "cell_type": "code",
   "execution_count": null,
   "id": "62fd0176",
   "metadata": {},
   "outputs": [],
   "source": [
    "ytm_guess = coupon_rate\n",
    "compounding = ql.Compounded\n",
    "ytm = (coupon_rate + 0.01)\n",
    "bond_price = latest_price\n",
    "bond_yield = fixed_rate_bond.bondYield(\n",
    "    bond_price,\n",
    "    day_count,\n",
    "    compounding,\n",
    "    frequency\n",
    ")\n",
    "\n",
    "macaulay_duration = ql.BondFunctions.duration(\n",
    "    fixed_rate_bond,\n",
    "    bond_yield,\n",
    "    day_count,\n",
    "    compounding,\n",
    "    frequency,\n",
    "    ql.Duration.Macaulay\n",
    ")"
   ]
  },
  {
   "cell_type": "markdown",
   "id": "aba64d6a",
   "metadata": {},
   "source": [
    "Here we use QuantLib to solve for the bond's yield, which expresses the annualized return if held to maturity at today's market price. We also get a practical summary statistic called duration, which tells us how sensitive the bond price is to moves in yields. Both are key numbers for anyone analyzing fixed income."
   ]
  },
  {
   "cell_type": "code",
   "execution_count": null,
   "id": "9ee529ba",
   "metadata": {},
   "outputs": [],
   "source": [
    "pd.DataFrame({\n",
    "    \"Bond Price\": [bond_price],\n",
    "    \"Yield to Maturity\": [bond_yield],\n",
    "    \"Macaulay Duration (Years)\": [macaulay_duration] \n",
    "})"
   ]
  }
 ],
 "metadata": {
  "kernelspec": {
   "display_name": "venv",
   "language": "python",
   "name": "python3"
  },
  "language_info": {
   "codemirror_mode": {
    "name": "ipython",
    "version": 3
   },
   "file_extension": ".py",
   "mimetype": "text/x-python",
   "name": "python",
   "nbconvert_exporter": "python",
   "pygments_lexer": "ipython3",
   "version": "3.10.12"
  }
 },
 "nbformat": 4,
 "nbformat_minor": 5
}
