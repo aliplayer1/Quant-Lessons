{
 "cells": [
  {
   "cell_type": "code",
   "execution_count": null,
   "id": "467f90f3",
   "metadata": {},
   "outputs": [],
   "source": [
    "import yfinance as yf\n",
    "import numpy as np\n",
    "import pandas as pd\n",
    "import matplotlib.pyplot as plt\n",
    "import time"
   ]
  },
  {
   "cell_type": "code",
   "execution_count": null,
   "id": "156dd575",
   "metadata": {},
   "outputs": [],
   "source": [
    "# FETCH MARKET DATA\n",
    "ticker = 'AAPL'\n",
    "data = yf.download(ticker, period='1y', progress=False, multi_level_index=False)\n",
    "spot_price = data.Close.iat[-1]\n",
    "risk_free_rate = 0.04\n",
    "dividend_yield = 0.06\n",
    "vol_annual = np.std(np.log(data['Close']/data[\"Close\"].shift(1)).dropna()) * np.sqrt(252)\n",
    "\n",
    "print(spot_price, vol_annual)"
   ]
  },
  {
   "cell_type": "code",
   "execution_count": null,
   "id": "db8597cc",
   "metadata": {},
   "outputs": [],
   "source": [
    "# Define option parameters\n",
    "start_time = time.time()\n",
    "expiry_days = 60\n",
    "maturity = expiry_days / 365.0 # Convert to years\n",
    "strikes = np.linspace(spot_price*0.8, spot_price*1.2, 61)\n",
    "steps = 1000 # Number of steps in binomial tree\n",
    "\n",
    "print(strikes)\n",
    "end_time = time.time()\n",
    "print(f\"{(end_time - start_time)*1000} miliseconds\")"
   ]
  },
  {
   "cell_type": "code",
   "execution_count": null,
   "id": "a9663fae",
   "metadata": {},
   "outputs": [],
   "source": [
    "def binomial_american_call(S0, K, T, r, q, sigma, N):\n",
    "    dt = T / N      # Time Setup\n",
    "    u = np.exp(sigma * np.sqrt(dt)) # Up Factor\n",
    "    d = 1 / u       # Down Factor\n",
    "    p = (np.exp((r - q) * dt) - d) / (u - d)    # Risk-neutral probability\n",
    "\n",
    "    # Initialize stock price tree\n",
    "    stock = np.zeros((N + 1, N + 1))\n",
    "    for i in range (N + 1):\n",
    "        for j in range (i + 1):\n",
    "            stock[j, i] = S0 * (u ** (i - j)) * (d ** j)\n",
    "\n",
    "    # Initialize option value tree\n",
    "    option = np.zeros((N + 1, N + 1))\n",
    "    option[:, N] = np.maximum(0, stock[:, N] - K) # Payoff at maturity\n",
    "\n",
    "    # Backwards induction\n",
    "    for i in range(N - 1, -1, -1):\n",
    "        for j in range(i + 1):\n",
    "            exercise = np.maximum(0, stock[j, i] - K) # Early exercise value\n",
    "            hold = np.exp(-r * dt) * (p * option[j, i + 1] + (1 - p) * option [j + 1, i + 1])\n",
    "            option[j,i] = np.maximum(exercise, hold) # Max of exercise or hold\n",
    "\n",
    "    return option[0, 0]"
   ]
  },
  {
   "cell_type": "code",
   "execution_count": null,
   "id": "5bde12da",
   "metadata": {},
   "outputs": [],
   "source": [
    "option_prices = [binomial_american_call(spot_price, K, maturity, risk_free_rate, dividend_yield, vol_annual, steps) for K in strikes]"
   ]
  },
  {
   "cell_type": "code",
   "execution_count": null,
   "id": "3f0ae3a6",
   "metadata": {},
   "outputs": [],
   "source": [
    "plt.style.use(\"dark_background\")\n",
    "plt.figure(figsize=(8,5))\n",
    "plt.plot(strikes, option_prices, label=\"American Option Price\")\n",
    "plt.scatter(strikes, option_prices, s = 12)\n",
    "plt.title(f\"{ticker} American Call Option Price vs Strike\")\n",
    "plt.xlabel(\"Strike Price\")\n",
    "plt.ylabel(\"Option Price (60 days to Expiration)\")\n",
    "plt.grid(True, alpha = 0.24)\n",
    "plt.legend()\n",
    "plt.tight_layout()\n",
    "plt.show()"
   ]
  }
 ],
 "metadata": {
  "kernelspec": {
   "display_name": "myenv",
   "language": "python",
   "name": "python3"
  },
  "language_info": {
   "codemirror_mode": {
    "name": "ipython",
    "version": 3
   },
   "file_extension": ".py",
   "mimetype": "text/x-python",
   "name": "python",
   "nbconvert_exporter": "python",
   "pygments_lexer": "ipython3",
   "version": "3.10.12"
  }
 },
 "nbformat": 4,
 "nbformat_minor": 5
}
