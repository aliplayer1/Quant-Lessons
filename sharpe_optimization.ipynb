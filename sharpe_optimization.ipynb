{
 "cells": [
  {
   "cell_type": "code",
   "execution_count": null,
   "id": "055968e6",
   "metadata": {},
   "outputs": [],
   "source": [
    "import pandas as pd\n",
    "import numpy as np\n",
    "import yfinance as yf\n",
    "from pandas_datareader import data as web\n",
    "from pypfopt import expected_returns, risk_models, EfficientFrontier\n",
    "import statsmodels.api as sm\n",
    "import matplotlib.pyplot as plt\n",
    "\n",
    "plt.rcParams[\"figure.figsize\"] = (10, 6)\n",
    "\n",
    "tickers = [\"AAPL\", 'MSFT', 'TSLA']\n",
    "\n",
    "# Download data\n",
    "prices = yf.download(tickers, start=\"2020-01-01\", end='2025-01-01')\n",
    "# Extract Close prices\n",
    "close_prices = prices['Close']\n",
    "print(close_prices.iloc[1:3])\n",
    "# close_prices.plot()\n",
    "close_prices.corr('pearson')\n",
    "close_prices.to_string()\n",
    "close_prices.dropna()"
   ]
  }
 ],
 "metadata": {
  "kernelspec": {
   "display_name": "myenv",
   "language": "python",
   "name": "python3"
  },
  "language_info": {
   "codemirror_mode": {
    "name": "ipython",
    "version": 3
   },
   "file_extension": ".py",
   "mimetype": "text/x-python",
   "name": "python",
   "nbconvert_exporter": "python",
   "pygments_lexer": "ipython3",
   "version": "3.10.12"
  }
 },
 "nbformat": 4,
 "nbformat_minor": 5
}
