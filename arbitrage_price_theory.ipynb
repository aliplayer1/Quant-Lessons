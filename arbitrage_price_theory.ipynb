{
 "cells": [
  {
   "cell_type": "markdown",
   "id": "9b84534d",
   "metadata": {},
   "source": [
    "# Arbitrage Pricing Theory (APT)\n",
    "\n",
    "Arbitrage Pricing Theory (APT) is a multi-factor asset pricing model that explains the expected returns of financial assets based on their exposure to various macroeconomic risk factors. Unlike the Capital Asset Pricing Model (CAPM), which uses a single factor (market risk), APT allows for multiple systematic risk factors such as interest rates, inflation, or industrial production. APT is ground in the principle of no-arbitrage, asserting that assets with identical risk exposure should have the same expecetd returns, or arbitrage oppurtunities would arise.\n",
    "\n",
    "Below is a script to estimate factor loadings for a stock using historical returns and calculate its expected return under APT. We simulate returns for simplicity, but in reality, you would use real historical data."
   ]
  },
  {
   "cell_type": "code",
   "execution_count": 1,
   "id": "5ac8c5ae",
   "metadata": {},
   "outputs": [],
   "source": [
    "import numpy as np\n",
    "from sklearn.linear_model import LinearRegression"
   ]
  },
  {
   "cell_type": "code",
   "execution_count": 7,
   "id": "2287f220",
   "metadata": {},
   "outputs": [
    {
     "name": "stdout",
     "output_type": "stream",
     "text": [
      "Estimated Beta (Market): 1.27\n",
      "Estimated Beta (Treasury Yield): -0.17\n",
      "Expected Annual Return: 12.30%\n"
     ]
    }
   ],
   "source": [
    "# Simulate historical monthly returns (12 months)\n",
    "np.random.seed(42)\n",
    "n_months = 12\n",
    "rf = 0.05 / 12  # Monthly risk-free rate\n",
    "market_returns = np.random.normal(0.005, 0.03, n_months)  # S&P 500 returns\n",
    "treasury_yield_changes = np.random.normal(0.001, 0.01, n_months)  # Treasury yield changes\n",
    "stock_returns = 0.004 + 1.2 * market_returns - 0.3 * treasury_yield_changes + np.random.normal(0, 0.02, n_months)\n",
    "\n",
    "# Prepare data for regression\n",
    "X = np.column_stack((market_returns, treasury_yield_changes))  # Factor returns\n",
    "y = stock_returns - rf  # Excess stock returns\n",
    "\n",
    "# Estimate factor loadings (betas)\n",
    "model = LinearRegression()\n",
    "model.fit(X, y)\n",
    "beta_market, beta_treasury = model.coef_\n",
    "\n",
    "# Risk premia (annualized, converted to monthly)\n",
    "lambda_market = 0.06 / 12  # Market risk premium\n",
    "lambda_treasury = 0.02 / 12  # Treasury yield risk premium\n",
    "\n",
    "# Calculate expected monthly return\n",
    "expected_return_monthly = rf + beta_market * lambda_market + beta_treasury * lambda_treasury\n",
    "\n",
    "# Annualize the expected return\n",
    "expected_return_annual = expected_return_monthly * 12\n",
    "\n",
    "print(f\"Estimated Beta (Market): {beta_market:.2f}\")\n",
    "print(f\"Estimated Beta (Treasury Yield): {beta_treasury:.2f}\")\n",
    "print(f\"Expected Annual Return: {expected_return_annual:.2%}\")\n"
   ]
  }
 ],
 "metadata": {
  "kernelspec": {
   "display_name": "Python 3",
   "language": "python",
   "name": "python3"
  },
  "language_info": {
   "codemirror_mode": {
    "name": "ipython",
    "version": 3
   },
   "file_extension": ".py",
   "mimetype": "text/x-python",
   "name": "python",
   "nbconvert_exporter": "python",
   "pygments_lexer": "ipython3",
   "version": "3.10.12"
  }
 },
 "nbformat": 4,
 "nbformat_minor": 5
}
