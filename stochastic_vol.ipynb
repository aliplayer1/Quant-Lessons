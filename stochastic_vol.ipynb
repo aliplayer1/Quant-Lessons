{
 "cells": [
  {
   "cell_type": "code",
   "execution_count": 1,
   "id": "cf1e0b4c",
   "metadata": {},
   "outputs": [],
   "source": [
    "import pandas as pd\n",
    "import numpy as np"
   ]
  },
  {
   "cell_type": "code",
   "execution_count": null,
   "id": "57dac57e",
   "metadata": {},
   "outputs": [
    {
     "name": "stdout",
     "output_type": "stream",
     "text": [
      "Estimated Call Option Price: $10.20\n"
     ]
    }
   ],
   "source": [
    "import numpy as np\n",
    "\n",
    "# Parameters\n",
    "S0 = 100.0  # Initial stock price\n",
    "K = 100.0   # Strike price\n",
    "T = 1.0     # Time to maturity\n",
    "r = 0.05    # Risk-free rate\n",
    "v0 = 0.04   # Initial variance\n",
    "kappa = 2.0 # Mean reversion rate\n",
    "theta = 0.04 # Long-term variance\n",
    "xi = 0.3    # Volatility of variance\n",
    "rho = -0.5  # Correlation\n",
    "N = 100000   # Number of simulations\n",
    "M = 252     # Number of time steps\n",
    "dt = T / M  # Time step\n",
    "\n",
    "# Generate correlated Brownian Motions\n",
    "np.random.seed(42)\n",
    "Z1 = np.random.normal(0,1, (N,M))\n",
    "Z2 = rho * Z1 + np.sqrt(1 - rho**2) * np.random.normal(0, 1, (N, M))\n",
    "\n",
    "# Initiliaze Arrays\n",
    "S = np.zeros((N, M + 1))\n",
    "v = np.zeros((N, M + 1))\n",
    "S[:,0] = S0\n",
    "v[:,0] = v0\n",
    "\n",
    "# Simulate paths\n",
    "for t in range(M):\n",
    "    # Update variance (CIR process, ensure non-negative)\n",
    "    v[:, t + 1] = np.maximum(v[:, t] + kappa * (theta - v[:, t]) * dt + xi * np.sqrt(v[:, t]) * np.sqrt(dt) * Z2[:, t], 0)\n",
    "    # Update stock price (geometric Brownian motion with stochastic volatility)\n",
    "    S[:, t + 1] = S[:, t] * np.exp((r - 0.5 * v[:, t]) * dt + np.sqrt(v[:, t]) * np.sqrt(dt) * Z1[:, t])\n",
    "\n",
    "# Compute payoffs for European call\n",
    "payoffs = np.maximum(S[:, -1] - K, 0)\n",
    "\n",
    "# Discount and average\n",
    "option_price = np.exp(-r * T) * np.mean(payoffs)\n",
    "\n",
    "print(f\"Estimated Call Option Price: ${option_price:.2f}\")"
   ]
  }
 ],
 "metadata": {
  "kernelspec": {
   "display_name": "Python 3",
   "language": "python",
   "name": "python3"
  },
  "language_info": {
   "codemirror_mode": {
    "name": "ipython",
    "version": 3
   },
   "file_extension": ".py",
   "mimetype": "text/x-python",
   "name": "python",
   "nbconvert_exporter": "python",
   "pygments_lexer": "ipython3",
   "version": "3.10.12"
  }
 },
 "nbformat": 4,
 "nbformat_minor": 5
}
